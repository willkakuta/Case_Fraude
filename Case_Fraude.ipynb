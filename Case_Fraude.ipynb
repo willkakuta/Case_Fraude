{
  "nbformat": 4,
  "nbformat_minor": 0,
  "metadata": {
    "colab": {
      "provenance": [],
      "toc_visible": true,
      "authorship_tag": "ABX9TyPhwT5h2p3zGGHvFw6QVscf",
      "include_colab_link": true
    },
    "kernelspec": {
      "name": "python3",
      "display_name": "Python 3"
    },
    "language_info": {
      "name": "python"
    }
  },
  "cells": [
    {
      "cell_type": "markdown",
      "metadata": {
        "id": "view-in-github",
        "colab_type": "text"
      },
      "source": [
        "<a href=\"https://colab.research.google.com/github/willkakuta/Case_Fraude/blob/main/Case_Fraude.ipynb\" target=\"_parent\"><img src=\"https://colab.research.google.com/assets/colab-badge.svg\" alt=\"Open In Colab\"/></a>"
      ]
    },
    {
      "cell_type": "markdown",
      "source": [
        "#Importando as bibliotecas"
      ],
      "metadata": {
        "id": "uHql6gejZ0Jq"
      }
    },
    {
      "cell_type": "code",
      "execution_count": 112,
      "metadata": {
        "id": "QGlkDcAMYhwO"
      },
      "outputs": [],
      "source": [
        "import pandas as pd\n",
        "import numpy as np\n",
        "\n",
        "from sklearn.model_selection import train_test_split\n",
        "\n",
        "from sklearn.compose import ColumnTransformer\n",
        "from sklearn.compose import make_column_selector as selector\n",
        "\n",
        "from sklearn.preprocessing import OneHotEncoder\n",
        "from sklearn.preprocessing import StandardScaler\n",
        "\n",
        "from sklearn.linear_model import LogisticRegression\n",
        "from sklearn.neighbors import KNeighborsClassifier\n",
        "from sklearn.tree import DecisionTreeClassifier\n",
        "\n",
        "from imblearn.pipeline import Pipeline\n",
        "from imblearn.over_sampling import RandomOverSampler, SMOTE, ADASYN\n",
        "from imblearn.under_sampling import RandomUnderSampler, NearMiss\n",
        "\n",
        "from sklearn.model_selection import StratifiedKFold\n",
        "from sklearn.model_selection import cross_validate"
      ]
    },
    {
      "cell_type": "markdown",
      "source": [
        "#Data Understanding"
      ],
      "metadata": {
        "id": "GYGTBkTTZ5s0"
      }
    },
    {
      "cell_type": "markdown",
      "source": [
        "##Ingestão de Dados"
      ],
      "metadata": {
        "id": "DExAqhTdaZ5M"
      }
    },
    {
      "cell_type": "code",
      "source": [
        "df = pd.read_csv('/content/vehicle-insurance-claim.csv')\n",
        "df.head()"
      ],
      "metadata": {
        "colab": {
          "base_uri": "https://localhost:8080/",
          "height": 300
        },
        "id": "UXBoHRO9Z4rB",
        "outputId": "69943181-d0cd-4db0-856f-c356b22d0cb5"
      },
      "execution_count": 93,
      "outputs": [
        {
          "output_type": "execute_result",
          "data": {
            "text/plain": [
              "  Month  WeekOfMonth  DayOfWeek    Make AccidentArea DayOfWeekClaimed  \\\n",
              "0   Dec            5  Wednesday   Honda        Urban          Tuesday   \n",
              "1   Jan            3  Wednesday   Honda        Urban           Monday   \n",
              "2   Oct            5     Friday   Honda        Urban         Thursday   \n",
              "3   Jun            2   Saturday  Toyota        Rural           Friday   \n",
              "4   Jan            5     Monday   Honda        Urban          Tuesday   \n",
              "\n",
              "  MonthClaimed  WeekOfMonthClaimed     Sex MaritalStatus  ...  AgeOfVehicle  \\\n",
              "0          Jan                   1  Female        Single  ...       3 years   \n",
              "1          Jan                   4    Male        Single  ...       6 years   \n",
              "2          Nov                   2    Male       Married  ...       7 years   \n",
              "3          Jul                   1    Male       Married  ...   more than 7   \n",
              "4          Feb                   2  Female        Single  ...       5 years   \n",
              "\n",
              "  AgeOfPolicyHolder PoliceReportFiled WitnessPresent AgentType  \\\n",
              "0          26 to 30                No             No  External   \n",
              "1          31 to 35               Yes             No  External   \n",
              "2          41 to 50                No             No  External   \n",
              "3          51 to 65               Yes             No  External   \n",
              "4          31 to 35                No             No  External   \n",
              "\n",
              "   NumberOfSuppliments  AddressChange_Claim  NumberOfCars  Year  BasePolicy  \n",
              "0                 none               1 year        3 to 4  1994   Liability  \n",
              "1                 none            no change     1 vehicle  1994   Collision  \n",
              "2                 none            no change     1 vehicle  1994   Collision  \n",
              "3          more than 5            no change     1 vehicle  1994   Liability  \n",
              "4                 none            no change     1 vehicle  1994   Collision  \n",
              "\n",
              "[5 rows x 33 columns]"
            ],
            "text/html": [
              "\n",
              "  <div id=\"df-72d4085d-472f-4e07-9622-55a750cb13d0\">\n",
              "    <div class=\"colab-df-container\">\n",
              "      <div>\n",
              "<style scoped>\n",
              "    .dataframe tbody tr th:only-of-type {\n",
              "        vertical-align: middle;\n",
              "    }\n",
              "\n",
              "    .dataframe tbody tr th {\n",
              "        vertical-align: top;\n",
              "    }\n",
              "\n",
              "    .dataframe thead th {\n",
              "        text-align: right;\n",
              "    }\n",
              "</style>\n",
              "<table border=\"1\" class=\"dataframe\">\n",
              "  <thead>\n",
              "    <tr style=\"text-align: right;\">\n",
              "      <th></th>\n",
              "      <th>Month</th>\n",
              "      <th>WeekOfMonth</th>\n",
              "      <th>DayOfWeek</th>\n",
              "      <th>Make</th>\n",
              "      <th>AccidentArea</th>\n",
              "      <th>DayOfWeekClaimed</th>\n",
              "      <th>MonthClaimed</th>\n",
              "      <th>WeekOfMonthClaimed</th>\n",
              "      <th>Sex</th>\n",
              "      <th>MaritalStatus</th>\n",
              "      <th>...</th>\n",
              "      <th>AgeOfVehicle</th>\n",
              "      <th>AgeOfPolicyHolder</th>\n",
              "      <th>PoliceReportFiled</th>\n",
              "      <th>WitnessPresent</th>\n",
              "      <th>AgentType</th>\n",
              "      <th>NumberOfSuppliments</th>\n",
              "      <th>AddressChange_Claim</th>\n",
              "      <th>NumberOfCars</th>\n",
              "      <th>Year</th>\n",
              "      <th>BasePolicy</th>\n",
              "    </tr>\n",
              "  </thead>\n",
              "  <tbody>\n",
              "    <tr>\n",
              "      <th>0</th>\n",
              "      <td>Dec</td>\n",
              "      <td>5</td>\n",
              "      <td>Wednesday</td>\n",
              "      <td>Honda</td>\n",
              "      <td>Urban</td>\n",
              "      <td>Tuesday</td>\n",
              "      <td>Jan</td>\n",
              "      <td>1</td>\n",
              "      <td>Female</td>\n",
              "      <td>Single</td>\n",
              "      <td>...</td>\n",
              "      <td>3 years</td>\n",
              "      <td>26 to 30</td>\n",
              "      <td>No</td>\n",
              "      <td>No</td>\n",
              "      <td>External</td>\n",
              "      <td>none</td>\n",
              "      <td>1 year</td>\n",
              "      <td>3 to 4</td>\n",
              "      <td>1994</td>\n",
              "      <td>Liability</td>\n",
              "    </tr>\n",
              "    <tr>\n",
              "      <th>1</th>\n",
              "      <td>Jan</td>\n",
              "      <td>3</td>\n",
              "      <td>Wednesday</td>\n",
              "      <td>Honda</td>\n",
              "      <td>Urban</td>\n",
              "      <td>Monday</td>\n",
              "      <td>Jan</td>\n",
              "      <td>4</td>\n",
              "      <td>Male</td>\n",
              "      <td>Single</td>\n",
              "      <td>...</td>\n",
              "      <td>6 years</td>\n",
              "      <td>31 to 35</td>\n",
              "      <td>Yes</td>\n",
              "      <td>No</td>\n",
              "      <td>External</td>\n",
              "      <td>none</td>\n",
              "      <td>no change</td>\n",
              "      <td>1 vehicle</td>\n",
              "      <td>1994</td>\n",
              "      <td>Collision</td>\n",
              "    </tr>\n",
              "    <tr>\n",
              "      <th>2</th>\n",
              "      <td>Oct</td>\n",
              "      <td>5</td>\n",
              "      <td>Friday</td>\n",
              "      <td>Honda</td>\n",
              "      <td>Urban</td>\n",
              "      <td>Thursday</td>\n",
              "      <td>Nov</td>\n",
              "      <td>2</td>\n",
              "      <td>Male</td>\n",
              "      <td>Married</td>\n",
              "      <td>...</td>\n",
              "      <td>7 years</td>\n",
              "      <td>41 to 50</td>\n",
              "      <td>No</td>\n",
              "      <td>No</td>\n",
              "      <td>External</td>\n",
              "      <td>none</td>\n",
              "      <td>no change</td>\n",
              "      <td>1 vehicle</td>\n",
              "      <td>1994</td>\n",
              "      <td>Collision</td>\n",
              "    </tr>\n",
              "    <tr>\n",
              "      <th>3</th>\n",
              "      <td>Jun</td>\n",
              "      <td>2</td>\n",
              "      <td>Saturday</td>\n",
              "      <td>Toyota</td>\n",
              "      <td>Rural</td>\n",
              "      <td>Friday</td>\n",
              "      <td>Jul</td>\n",
              "      <td>1</td>\n",
              "      <td>Male</td>\n",
              "      <td>Married</td>\n",
              "      <td>...</td>\n",
              "      <td>more than 7</td>\n",
              "      <td>51 to 65</td>\n",
              "      <td>Yes</td>\n",
              "      <td>No</td>\n",
              "      <td>External</td>\n",
              "      <td>more than 5</td>\n",
              "      <td>no change</td>\n",
              "      <td>1 vehicle</td>\n",
              "      <td>1994</td>\n",
              "      <td>Liability</td>\n",
              "    </tr>\n",
              "    <tr>\n",
              "      <th>4</th>\n",
              "      <td>Jan</td>\n",
              "      <td>5</td>\n",
              "      <td>Monday</td>\n",
              "      <td>Honda</td>\n",
              "      <td>Urban</td>\n",
              "      <td>Tuesday</td>\n",
              "      <td>Feb</td>\n",
              "      <td>2</td>\n",
              "      <td>Female</td>\n",
              "      <td>Single</td>\n",
              "      <td>...</td>\n",
              "      <td>5 years</td>\n",
              "      <td>31 to 35</td>\n",
              "      <td>No</td>\n",
              "      <td>No</td>\n",
              "      <td>External</td>\n",
              "      <td>none</td>\n",
              "      <td>no change</td>\n",
              "      <td>1 vehicle</td>\n",
              "      <td>1994</td>\n",
              "      <td>Collision</td>\n",
              "    </tr>\n",
              "  </tbody>\n",
              "</table>\n",
              "<p>5 rows × 33 columns</p>\n",
              "</div>\n",
              "      <button class=\"colab-df-convert\" onclick=\"convertToInteractive('df-72d4085d-472f-4e07-9622-55a750cb13d0')\"\n",
              "              title=\"Convert this dataframe to an interactive table.\"\n",
              "              style=\"display:none;\">\n",
              "        \n",
              "  <svg xmlns=\"http://www.w3.org/2000/svg\" height=\"24px\"viewBox=\"0 0 24 24\"\n",
              "       width=\"24px\">\n",
              "    <path d=\"M0 0h24v24H0V0z\" fill=\"none\"/>\n",
              "    <path d=\"M18.56 5.44l.94 2.06.94-2.06 2.06-.94-2.06-.94-.94-2.06-.94 2.06-2.06.94zm-11 1L8.5 8.5l.94-2.06 2.06-.94-2.06-.94L8.5 2.5l-.94 2.06-2.06.94zm10 10l.94 2.06.94-2.06 2.06-.94-2.06-.94-.94-2.06-.94 2.06-2.06.94z\"/><path d=\"M17.41 7.96l-1.37-1.37c-.4-.4-.92-.59-1.43-.59-.52 0-1.04.2-1.43.59L10.3 9.45l-7.72 7.72c-.78.78-.78 2.05 0 2.83L4 21.41c.39.39.9.59 1.41.59.51 0 1.02-.2 1.41-.59l7.78-7.78 2.81-2.81c.8-.78.8-2.07 0-2.86zM5.41 20L4 18.59l7.72-7.72 1.47 1.35L5.41 20z\"/>\n",
              "  </svg>\n",
              "      </button>\n",
              "      \n",
              "  <style>\n",
              "    .colab-df-container {\n",
              "      display:flex;\n",
              "      flex-wrap:wrap;\n",
              "      gap: 12px;\n",
              "    }\n",
              "\n",
              "    .colab-df-convert {\n",
              "      background-color: #E8F0FE;\n",
              "      border: none;\n",
              "      border-radius: 50%;\n",
              "      cursor: pointer;\n",
              "      display: none;\n",
              "      fill: #1967D2;\n",
              "      height: 32px;\n",
              "      padding: 0 0 0 0;\n",
              "      width: 32px;\n",
              "    }\n",
              "\n",
              "    .colab-df-convert:hover {\n",
              "      background-color: #E2EBFA;\n",
              "      box-shadow: 0px 1px 2px rgba(60, 64, 67, 0.3), 0px 1px 3px 1px rgba(60, 64, 67, 0.15);\n",
              "      fill: #174EA6;\n",
              "    }\n",
              "\n",
              "    [theme=dark] .colab-df-convert {\n",
              "      background-color: #3B4455;\n",
              "      fill: #D2E3FC;\n",
              "    }\n",
              "\n",
              "    [theme=dark] .colab-df-convert:hover {\n",
              "      background-color: #434B5C;\n",
              "      box-shadow: 0px 1px 3px 1px rgba(0, 0, 0, 0.15);\n",
              "      filter: drop-shadow(0px 1px 2px rgba(0, 0, 0, 0.3));\n",
              "      fill: #FFFFFF;\n",
              "    }\n",
              "  </style>\n",
              "\n",
              "      <script>\n",
              "        const buttonEl =\n",
              "          document.querySelector('#df-72d4085d-472f-4e07-9622-55a750cb13d0 button.colab-df-convert');\n",
              "        buttonEl.style.display =\n",
              "          google.colab.kernel.accessAllowed ? 'block' : 'none';\n",
              "\n",
              "        async function convertToInteractive(key) {\n",
              "          const element = document.querySelector('#df-72d4085d-472f-4e07-9622-55a750cb13d0');\n",
              "          const dataTable =\n",
              "            await google.colab.kernel.invokeFunction('convertToInteractive',\n",
              "                                                     [key], {});\n",
              "          if (!dataTable) return;\n",
              "\n",
              "          const docLinkHtml = 'Like what you see? Visit the ' +\n",
              "            '<a target=\"_blank\" href=https://colab.research.google.com/notebooks/data_table.ipynb>data table notebook</a>'\n",
              "            + ' to learn more about interactive tables.';\n",
              "          element.innerHTML = '';\n",
              "          dataTable['output_type'] = 'display_data';\n",
              "          await google.colab.output.renderOutput(dataTable, element);\n",
              "          const docLink = document.createElement('div');\n",
              "          docLink.innerHTML = docLinkHtml;\n",
              "          element.appendChild(docLink);\n",
              "        }\n",
              "      </script>\n",
              "    </div>\n",
              "  </div>\n",
              "  "
            ]
          },
          "metadata": {},
          "execution_count": 93
        }
      ]
    },
    {
      "cell_type": "markdown",
      "source": [
        "##Dimensões da base de dados"
      ],
      "metadata": {
        "id": "mj7H-e_0acow"
      }
    },
    {
      "cell_type": "code",
      "source": [
        "df.shape"
      ],
      "metadata": {
        "colab": {
          "base_uri": "https://localhost:8080/"
        },
        "id": "E_GkIvvsafIG",
        "outputId": "b8e2cbd7-7af2-4f4d-86c8-d879f6b086e8"
      },
      "execution_count": 94,
      "outputs": [
        {
          "output_type": "execute_result",
          "data": {
            "text/plain": [
              "(15420, 33)"
            ]
          },
          "metadata": {},
          "execution_count": 94
        }
      ]
    },
    {
      "cell_type": "markdown",
      "source": [
        "##Tipos de Dados"
      ],
      "metadata": {
        "id": "OmDdXPoSanI3"
      }
    },
    {
      "cell_type": "code",
      "source": [
        "df.dtypes"
      ],
      "metadata": {
        "colab": {
          "base_uri": "https://localhost:8080/"
        },
        "id": "EyrC8zlNalyD",
        "outputId": "5acbbd53-7463-45bb-da48-8d2a1b60d605"
      },
      "execution_count": 95,
      "outputs": [
        {
          "output_type": "execute_result",
          "data": {
            "text/plain": [
              "Month                   object\n",
              "WeekOfMonth              int64\n",
              "DayOfWeek               object\n",
              "Make                    object\n",
              "AccidentArea            object\n",
              "DayOfWeekClaimed        object\n",
              "MonthClaimed            object\n",
              "WeekOfMonthClaimed       int64\n",
              "Sex                     object\n",
              "MaritalStatus           object\n",
              "Age                      int64\n",
              "Fault                   object\n",
              "PolicyType              object\n",
              "VehicleCategory         object\n",
              "VehiclePrice            object\n",
              "FraudFound_P             int64\n",
              "PolicyNumber             int64\n",
              "RepNumber                int64\n",
              "Deductible               int64\n",
              "DriverRating             int64\n",
              "Days_Policy_Accident    object\n",
              "Days_Policy_Claim       object\n",
              "PastNumberOfClaims      object\n",
              "AgeOfVehicle            object\n",
              "AgeOfPolicyHolder       object\n",
              "PoliceReportFiled       object\n",
              "WitnessPresent          object\n",
              "AgentType               object\n",
              "NumberOfSuppliments     object\n",
              "AddressChange_Claim     object\n",
              "NumberOfCars            object\n",
              "Year                     int64\n",
              "BasePolicy              object\n",
              "dtype: object"
            ]
          },
          "metadata": {},
          "execution_count": 95
        }
      ]
    },
    {
      "cell_type": "code",
      "source": [
        "df['PolicyNumber'] = df['PolicyNumber'].astype('object')"
      ],
      "metadata": {
        "id": "QZRE83REcEp6"
      },
      "execution_count": 96,
      "outputs": []
    },
    {
      "cell_type": "markdown",
      "source": [
        "##Distribuição de Classes"
      ],
      "metadata": {
        "id": "NYzFNiXsa-bg"
      }
    },
    {
      "cell_type": "code",
      "source": [
        "df['FraudFound_P'].value_counts(normalize=True) * 100"
      ],
      "metadata": {
        "colab": {
          "base_uri": "https://localhost:8080/"
        },
        "id": "DM_RbNNHax1p",
        "outputId": "b2be88b9-0e4b-4ca1-ddff-3eac5b969f3c"
      },
      "execution_count": 97,
      "outputs": [
        {
          "output_type": "execute_result",
          "data": {
            "text/plain": [
              "0    94.014267\n",
              "1     5.985733\n",
              "Name: FraudFound_P, dtype: float64"
            ]
          },
          "metadata": {},
          "execution_count": 97
        }
      ]
    },
    {
      "cell_type": "markdown",
      "source": [
        "## Dados Faltantes"
      ],
      "metadata": {
        "id": "8lp24dhMbVNK"
      }
    },
    {
      "cell_type": "code",
      "source": [
        "df.isna().sum().sum()"
      ],
      "metadata": {
        "colab": {
          "base_uri": "https://localhost:8080/"
        },
        "id": "H8uadPcabO0S",
        "outputId": "6d332e8e-4b98-4a15-bcb4-fd5671974fd7"
      },
      "execution_count": 98,
      "outputs": [
        {
          "output_type": "execute_result",
          "data": {
            "text/plain": [
              "0"
            ]
          },
          "metadata": {},
          "execution_count": 98
        }
      ]
    },
    {
      "cell_type": "markdown",
      "source": [
        "## Dados duplicados"
      ],
      "metadata": {
        "id": "z5hgzjxpbYJF"
      }
    },
    {
      "cell_type": "code",
      "source": [
        "df[df.duplicated()].shape[0]"
      ],
      "metadata": {
        "colab": {
          "base_uri": "https://localhost:8080/"
        },
        "id": "8bLF8tsgbgVD",
        "outputId": "26fdf903-468f-4191-8875-53ba7ef57278"
      },
      "execution_count": 99,
      "outputs": [
        {
          "output_type": "execute_result",
          "data": {
            "text/plain": [
              "0"
            ]
          },
          "metadata": {},
          "execution_count": 99
        }
      ]
    },
    {
      "cell_type": "markdown",
      "source": [
        "## Descrição dos Dados"
      ],
      "metadata": {
        "id": "48r6ZbkKbmyL"
      }
    },
    {
      "cell_type": "markdown",
      "source": [
        "###Numéricos"
      ],
      "metadata": {
        "id": "5Mdhl8pcbrY2"
      }
    },
    {
      "cell_type": "code",
      "source": [
        "df.describe(include=['int64']).T"
      ],
      "metadata": {
        "colab": {
          "base_uri": "https://localhost:8080/",
          "height": 300
        },
        "id": "OWdrdmRkbtL5",
        "outputId": "49b6d3f0-2bde-422d-ea80-dfda9fdfc9e6"
      },
      "execution_count": 100,
      "outputs": [
        {
          "output_type": "execute_result",
          "data": {
            "text/plain": [
              "                      count         mean        std     min     25%     50%  \\\n",
              "WeekOfMonth         15420.0     2.788586   1.287585     1.0     2.0     3.0   \n",
              "WeekOfMonthClaimed  15420.0     2.693969   1.259115     1.0     2.0     3.0   \n",
              "Age                 15420.0    39.855707  13.492377     0.0    31.0    38.0   \n",
              "FraudFound_P        15420.0     0.059857   0.237230     0.0     0.0     0.0   \n",
              "RepNumber           15420.0     8.483268   4.599948     1.0     5.0     8.0   \n",
              "Deductible          15420.0   407.704280  43.950998   300.0   400.0   400.0   \n",
              "DriverRating        15420.0     2.487808   1.119453     1.0     1.0     2.0   \n",
              "Year                15420.0  1994.866472   0.803313  1994.0  1994.0  1995.0   \n",
              "\n",
              "                       75%     max  \n",
              "WeekOfMonth            4.0     5.0  \n",
              "WeekOfMonthClaimed     4.0     5.0  \n",
              "Age                   48.0    80.0  \n",
              "FraudFound_P           0.0     1.0  \n",
              "RepNumber             12.0    16.0  \n",
              "Deductible           400.0   700.0  \n",
              "DriverRating           3.0     4.0  \n",
              "Year                1996.0  1996.0  "
            ],
            "text/html": [
              "\n",
              "  <div id=\"df-c608cc8a-2e3c-42da-bbc7-7fab1aca5674\">\n",
              "    <div class=\"colab-df-container\">\n",
              "      <div>\n",
              "<style scoped>\n",
              "    .dataframe tbody tr th:only-of-type {\n",
              "        vertical-align: middle;\n",
              "    }\n",
              "\n",
              "    .dataframe tbody tr th {\n",
              "        vertical-align: top;\n",
              "    }\n",
              "\n",
              "    .dataframe thead th {\n",
              "        text-align: right;\n",
              "    }\n",
              "</style>\n",
              "<table border=\"1\" class=\"dataframe\">\n",
              "  <thead>\n",
              "    <tr style=\"text-align: right;\">\n",
              "      <th></th>\n",
              "      <th>count</th>\n",
              "      <th>mean</th>\n",
              "      <th>std</th>\n",
              "      <th>min</th>\n",
              "      <th>25%</th>\n",
              "      <th>50%</th>\n",
              "      <th>75%</th>\n",
              "      <th>max</th>\n",
              "    </tr>\n",
              "  </thead>\n",
              "  <tbody>\n",
              "    <tr>\n",
              "      <th>WeekOfMonth</th>\n",
              "      <td>15420.0</td>\n",
              "      <td>2.788586</td>\n",
              "      <td>1.287585</td>\n",
              "      <td>1.0</td>\n",
              "      <td>2.0</td>\n",
              "      <td>3.0</td>\n",
              "      <td>4.0</td>\n",
              "      <td>5.0</td>\n",
              "    </tr>\n",
              "    <tr>\n",
              "      <th>WeekOfMonthClaimed</th>\n",
              "      <td>15420.0</td>\n",
              "      <td>2.693969</td>\n",
              "      <td>1.259115</td>\n",
              "      <td>1.0</td>\n",
              "      <td>2.0</td>\n",
              "      <td>3.0</td>\n",
              "      <td>4.0</td>\n",
              "      <td>5.0</td>\n",
              "    </tr>\n",
              "    <tr>\n",
              "      <th>Age</th>\n",
              "      <td>15420.0</td>\n",
              "      <td>39.855707</td>\n",
              "      <td>13.492377</td>\n",
              "      <td>0.0</td>\n",
              "      <td>31.0</td>\n",
              "      <td>38.0</td>\n",
              "      <td>48.0</td>\n",
              "      <td>80.0</td>\n",
              "    </tr>\n",
              "    <tr>\n",
              "      <th>FraudFound_P</th>\n",
              "      <td>15420.0</td>\n",
              "      <td>0.059857</td>\n",
              "      <td>0.237230</td>\n",
              "      <td>0.0</td>\n",
              "      <td>0.0</td>\n",
              "      <td>0.0</td>\n",
              "      <td>0.0</td>\n",
              "      <td>1.0</td>\n",
              "    </tr>\n",
              "    <tr>\n",
              "      <th>RepNumber</th>\n",
              "      <td>15420.0</td>\n",
              "      <td>8.483268</td>\n",
              "      <td>4.599948</td>\n",
              "      <td>1.0</td>\n",
              "      <td>5.0</td>\n",
              "      <td>8.0</td>\n",
              "      <td>12.0</td>\n",
              "      <td>16.0</td>\n",
              "    </tr>\n",
              "    <tr>\n",
              "      <th>Deductible</th>\n",
              "      <td>15420.0</td>\n",
              "      <td>407.704280</td>\n",
              "      <td>43.950998</td>\n",
              "      <td>300.0</td>\n",
              "      <td>400.0</td>\n",
              "      <td>400.0</td>\n",
              "      <td>400.0</td>\n",
              "      <td>700.0</td>\n",
              "    </tr>\n",
              "    <tr>\n",
              "      <th>DriverRating</th>\n",
              "      <td>15420.0</td>\n",
              "      <td>2.487808</td>\n",
              "      <td>1.119453</td>\n",
              "      <td>1.0</td>\n",
              "      <td>1.0</td>\n",
              "      <td>2.0</td>\n",
              "      <td>3.0</td>\n",
              "      <td>4.0</td>\n",
              "    </tr>\n",
              "    <tr>\n",
              "      <th>Year</th>\n",
              "      <td>15420.0</td>\n",
              "      <td>1994.866472</td>\n",
              "      <td>0.803313</td>\n",
              "      <td>1994.0</td>\n",
              "      <td>1994.0</td>\n",
              "      <td>1995.0</td>\n",
              "      <td>1996.0</td>\n",
              "      <td>1996.0</td>\n",
              "    </tr>\n",
              "  </tbody>\n",
              "</table>\n",
              "</div>\n",
              "      <button class=\"colab-df-convert\" onclick=\"convertToInteractive('df-c608cc8a-2e3c-42da-bbc7-7fab1aca5674')\"\n",
              "              title=\"Convert this dataframe to an interactive table.\"\n",
              "              style=\"display:none;\">\n",
              "        \n",
              "  <svg xmlns=\"http://www.w3.org/2000/svg\" height=\"24px\"viewBox=\"0 0 24 24\"\n",
              "       width=\"24px\">\n",
              "    <path d=\"M0 0h24v24H0V0z\" fill=\"none\"/>\n",
              "    <path d=\"M18.56 5.44l.94 2.06.94-2.06 2.06-.94-2.06-.94-.94-2.06-.94 2.06-2.06.94zm-11 1L8.5 8.5l.94-2.06 2.06-.94-2.06-.94L8.5 2.5l-.94 2.06-2.06.94zm10 10l.94 2.06.94-2.06 2.06-.94-2.06-.94-.94-2.06-.94 2.06-2.06.94z\"/><path d=\"M17.41 7.96l-1.37-1.37c-.4-.4-.92-.59-1.43-.59-.52 0-1.04.2-1.43.59L10.3 9.45l-7.72 7.72c-.78.78-.78 2.05 0 2.83L4 21.41c.39.39.9.59 1.41.59.51 0 1.02-.2 1.41-.59l7.78-7.78 2.81-2.81c.8-.78.8-2.07 0-2.86zM5.41 20L4 18.59l7.72-7.72 1.47 1.35L5.41 20z\"/>\n",
              "  </svg>\n",
              "      </button>\n",
              "      \n",
              "  <style>\n",
              "    .colab-df-container {\n",
              "      display:flex;\n",
              "      flex-wrap:wrap;\n",
              "      gap: 12px;\n",
              "    }\n",
              "\n",
              "    .colab-df-convert {\n",
              "      background-color: #E8F0FE;\n",
              "      border: none;\n",
              "      border-radius: 50%;\n",
              "      cursor: pointer;\n",
              "      display: none;\n",
              "      fill: #1967D2;\n",
              "      height: 32px;\n",
              "      padding: 0 0 0 0;\n",
              "      width: 32px;\n",
              "    }\n",
              "\n",
              "    .colab-df-convert:hover {\n",
              "      background-color: #E2EBFA;\n",
              "      box-shadow: 0px 1px 2px rgba(60, 64, 67, 0.3), 0px 1px 3px 1px rgba(60, 64, 67, 0.15);\n",
              "      fill: #174EA6;\n",
              "    }\n",
              "\n",
              "    [theme=dark] .colab-df-convert {\n",
              "      background-color: #3B4455;\n",
              "      fill: #D2E3FC;\n",
              "    }\n",
              "\n",
              "    [theme=dark] .colab-df-convert:hover {\n",
              "      background-color: #434B5C;\n",
              "      box-shadow: 0px 1px 3px 1px rgba(0, 0, 0, 0.15);\n",
              "      filter: drop-shadow(0px 1px 2px rgba(0, 0, 0, 0.3));\n",
              "      fill: #FFFFFF;\n",
              "    }\n",
              "  </style>\n",
              "\n",
              "      <script>\n",
              "        const buttonEl =\n",
              "          document.querySelector('#df-c608cc8a-2e3c-42da-bbc7-7fab1aca5674 button.colab-df-convert');\n",
              "        buttonEl.style.display =\n",
              "          google.colab.kernel.accessAllowed ? 'block' : 'none';\n",
              "\n",
              "        async function convertToInteractive(key) {\n",
              "          const element = document.querySelector('#df-c608cc8a-2e3c-42da-bbc7-7fab1aca5674');\n",
              "          const dataTable =\n",
              "            await google.colab.kernel.invokeFunction('convertToInteractive',\n",
              "                                                     [key], {});\n",
              "          if (!dataTable) return;\n",
              "\n",
              "          const docLinkHtml = 'Like what you see? Visit the ' +\n",
              "            '<a target=\"_blank\" href=https://colab.research.google.com/notebooks/data_table.ipynb>data table notebook</a>'\n",
              "            + ' to learn more about interactive tables.';\n",
              "          element.innerHTML = '';\n",
              "          dataTable['output_type'] = 'display_data';\n",
              "          await google.colab.output.renderOutput(dataTable, element);\n",
              "          const docLink = document.createElement('div');\n",
              "          docLink.innerHTML = docLinkHtml;\n",
              "          element.appendChild(docLink);\n",
              "        }\n",
              "      </script>\n",
              "    </div>\n",
              "  </div>\n",
              "  "
            ]
          },
          "metadata": {},
          "execution_count": 100
        }
      ]
    },
    {
      "cell_type": "markdown",
      "source": [
        "###Categóricos\n"
      ],
      "metadata": {
        "id": "PJTjZ5HbcQ_3"
      }
    },
    {
      "cell_type": "code",
      "source": [
        "df.describe(include=['object']).T"
      ],
      "metadata": {
        "colab": {
          "base_uri": "https://localhost:8080/",
          "height": 833
        },
        "id": "c27tFgQHcZw2",
        "outputId": "170f9367-fde4-4e02-a585-7453106b3743"
      },
      "execution_count": 101,
      "outputs": [
        {
          "output_type": "execute_result",
          "data": {
            "text/plain": [
              "                      count unique                top   freq\n",
              "Month                 15420     12                Jan   1411\n",
              "DayOfWeek             15420      7             Monday   2616\n",
              "Make                  15420     19            Pontiac   3837\n",
              "AccidentArea          15420      2              Urban  13822\n",
              "DayOfWeekClaimed      15420      8             Monday   3757\n",
              "MonthClaimed          15420     13                Jan   1446\n",
              "Sex                   15420      2               Male  13000\n",
              "MaritalStatus         15420      4            Married  10625\n",
              "Fault                 15420      2      Policy Holder  11230\n",
              "PolicyType            15420      9  Sedan - Collision   5584\n",
              "VehicleCategory       15420      3              Sedan   9671\n",
              "VehiclePrice          15420      6     20000 to 29000   8079\n",
              "PolicyNumber          15420  15420                  1      1\n",
              "Days_Policy_Accident  15420      5       more than 30  15247\n",
              "Days_Policy_Claim     15420      4       more than 30  15342\n",
              "PastNumberOfClaims    15420      4             2 to 4   5485\n",
              "AgeOfVehicle          15420      8            7 years   5807\n",
              "AgeOfPolicyHolder     15420      9           31 to 35   5593\n",
              "PoliceReportFiled     15420      2                 No  14992\n",
              "WitnessPresent        15420      2                 No  15333\n",
              "AgentType             15420      2           External  15179\n",
              "NumberOfSuppliments   15420      4               none   7047\n",
              "AddressChange_Claim   15420      5          no change  14324\n",
              "NumberOfCars          15420      5          1 vehicle  14316\n",
              "BasePolicy            15420      3          Collision   5962"
            ],
            "text/html": [
              "\n",
              "  <div id=\"df-64980c2a-721b-4198-b24d-be6b430daaf7\">\n",
              "    <div class=\"colab-df-container\">\n",
              "      <div>\n",
              "<style scoped>\n",
              "    .dataframe tbody tr th:only-of-type {\n",
              "        vertical-align: middle;\n",
              "    }\n",
              "\n",
              "    .dataframe tbody tr th {\n",
              "        vertical-align: top;\n",
              "    }\n",
              "\n",
              "    .dataframe thead th {\n",
              "        text-align: right;\n",
              "    }\n",
              "</style>\n",
              "<table border=\"1\" class=\"dataframe\">\n",
              "  <thead>\n",
              "    <tr style=\"text-align: right;\">\n",
              "      <th></th>\n",
              "      <th>count</th>\n",
              "      <th>unique</th>\n",
              "      <th>top</th>\n",
              "      <th>freq</th>\n",
              "    </tr>\n",
              "  </thead>\n",
              "  <tbody>\n",
              "    <tr>\n",
              "      <th>Month</th>\n",
              "      <td>15420</td>\n",
              "      <td>12</td>\n",
              "      <td>Jan</td>\n",
              "      <td>1411</td>\n",
              "    </tr>\n",
              "    <tr>\n",
              "      <th>DayOfWeek</th>\n",
              "      <td>15420</td>\n",
              "      <td>7</td>\n",
              "      <td>Monday</td>\n",
              "      <td>2616</td>\n",
              "    </tr>\n",
              "    <tr>\n",
              "      <th>Make</th>\n",
              "      <td>15420</td>\n",
              "      <td>19</td>\n",
              "      <td>Pontiac</td>\n",
              "      <td>3837</td>\n",
              "    </tr>\n",
              "    <tr>\n",
              "      <th>AccidentArea</th>\n",
              "      <td>15420</td>\n",
              "      <td>2</td>\n",
              "      <td>Urban</td>\n",
              "      <td>13822</td>\n",
              "    </tr>\n",
              "    <tr>\n",
              "      <th>DayOfWeekClaimed</th>\n",
              "      <td>15420</td>\n",
              "      <td>8</td>\n",
              "      <td>Monday</td>\n",
              "      <td>3757</td>\n",
              "    </tr>\n",
              "    <tr>\n",
              "      <th>MonthClaimed</th>\n",
              "      <td>15420</td>\n",
              "      <td>13</td>\n",
              "      <td>Jan</td>\n",
              "      <td>1446</td>\n",
              "    </tr>\n",
              "    <tr>\n",
              "      <th>Sex</th>\n",
              "      <td>15420</td>\n",
              "      <td>2</td>\n",
              "      <td>Male</td>\n",
              "      <td>13000</td>\n",
              "    </tr>\n",
              "    <tr>\n",
              "      <th>MaritalStatus</th>\n",
              "      <td>15420</td>\n",
              "      <td>4</td>\n",
              "      <td>Married</td>\n",
              "      <td>10625</td>\n",
              "    </tr>\n",
              "    <tr>\n",
              "      <th>Fault</th>\n",
              "      <td>15420</td>\n",
              "      <td>2</td>\n",
              "      <td>Policy Holder</td>\n",
              "      <td>11230</td>\n",
              "    </tr>\n",
              "    <tr>\n",
              "      <th>PolicyType</th>\n",
              "      <td>15420</td>\n",
              "      <td>9</td>\n",
              "      <td>Sedan - Collision</td>\n",
              "      <td>5584</td>\n",
              "    </tr>\n",
              "    <tr>\n",
              "      <th>VehicleCategory</th>\n",
              "      <td>15420</td>\n",
              "      <td>3</td>\n",
              "      <td>Sedan</td>\n",
              "      <td>9671</td>\n",
              "    </tr>\n",
              "    <tr>\n",
              "      <th>VehiclePrice</th>\n",
              "      <td>15420</td>\n",
              "      <td>6</td>\n",
              "      <td>20000 to 29000</td>\n",
              "      <td>8079</td>\n",
              "    </tr>\n",
              "    <tr>\n",
              "      <th>PolicyNumber</th>\n",
              "      <td>15420</td>\n",
              "      <td>15420</td>\n",
              "      <td>1</td>\n",
              "      <td>1</td>\n",
              "    </tr>\n",
              "    <tr>\n",
              "      <th>Days_Policy_Accident</th>\n",
              "      <td>15420</td>\n",
              "      <td>5</td>\n",
              "      <td>more than 30</td>\n",
              "      <td>15247</td>\n",
              "    </tr>\n",
              "    <tr>\n",
              "      <th>Days_Policy_Claim</th>\n",
              "      <td>15420</td>\n",
              "      <td>4</td>\n",
              "      <td>more than 30</td>\n",
              "      <td>15342</td>\n",
              "    </tr>\n",
              "    <tr>\n",
              "      <th>PastNumberOfClaims</th>\n",
              "      <td>15420</td>\n",
              "      <td>4</td>\n",
              "      <td>2 to 4</td>\n",
              "      <td>5485</td>\n",
              "    </tr>\n",
              "    <tr>\n",
              "      <th>AgeOfVehicle</th>\n",
              "      <td>15420</td>\n",
              "      <td>8</td>\n",
              "      <td>7 years</td>\n",
              "      <td>5807</td>\n",
              "    </tr>\n",
              "    <tr>\n",
              "      <th>AgeOfPolicyHolder</th>\n",
              "      <td>15420</td>\n",
              "      <td>9</td>\n",
              "      <td>31 to 35</td>\n",
              "      <td>5593</td>\n",
              "    </tr>\n",
              "    <tr>\n",
              "      <th>PoliceReportFiled</th>\n",
              "      <td>15420</td>\n",
              "      <td>2</td>\n",
              "      <td>No</td>\n",
              "      <td>14992</td>\n",
              "    </tr>\n",
              "    <tr>\n",
              "      <th>WitnessPresent</th>\n",
              "      <td>15420</td>\n",
              "      <td>2</td>\n",
              "      <td>No</td>\n",
              "      <td>15333</td>\n",
              "    </tr>\n",
              "    <tr>\n",
              "      <th>AgentType</th>\n",
              "      <td>15420</td>\n",
              "      <td>2</td>\n",
              "      <td>External</td>\n",
              "      <td>15179</td>\n",
              "    </tr>\n",
              "    <tr>\n",
              "      <th>NumberOfSuppliments</th>\n",
              "      <td>15420</td>\n",
              "      <td>4</td>\n",
              "      <td>none</td>\n",
              "      <td>7047</td>\n",
              "    </tr>\n",
              "    <tr>\n",
              "      <th>AddressChange_Claim</th>\n",
              "      <td>15420</td>\n",
              "      <td>5</td>\n",
              "      <td>no change</td>\n",
              "      <td>14324</td>\n",
              "    </tr>\n",
              "    <tr>\n",
              "      <th>NumberOfCars</th>\n",
              "      <td>15420</td>\n",
              "      <td>5</td>\n",
              "      <td>1 vehicle</td>\n",
              "      <td>14316</td>\n",
              "    </tr>\n",
              "    <tr>\n",
              "      <th>BasePolicy</th>\n",
              "      <td>15420</td>\n",
              "      <td>3</td>\n",
              "      <td>Collision</td>\n",
              "      <td>5962</td>\n",
              "    </tr>\n",
              "  </tbody>\n",
              "</table>\n",
              "</div>\n",
              "      <button class=\"colab-df-convert\" onclick=\"convertToInteractive('df-64980c2a-721b-4198-b24d-be6b430daaf7')\"\n",
              "              title=\"Convert this dataframe to an interactive table.\"\n",
              "              style=\"display:none;\">\n",
              "        \n",
              "  <svg xmlns=\"http://www.w3.org/2000/svg\" height=\"24px\"viewBox=\"0 0 24 24\"\n",
              "       width=\"24px\">\n",
              "    <path d=\"M0 0h24v24H0V0z\" fill=\"none\"/>\n",
              "    <path d=\"M18.56 5.44l.94 2.06.94-2.06 2.06-.94-2.06-.94-.94-2.06-.94 2.06-2.06.94zm-11 1L8.5 8.5l.94-2.06 2.06-.94-2.06-.94L8.5 2.5l-.94 2.06-2.06.94zm10 10l.94 2.06.94-2.06 2.06-.94-2.06-.94-.94-2.06-.94 2.06-2.06.94z\"/><path d=\"M17.41 7.96l-1.37-1.37c-.4-.4-.92-.59-1.43-.59-.52 0-1.04.2-1.43.59L10.3 9.45l-7.72 7.72c-.78.78-.78 2.05 0 2.83L4 21.41c.39.39.9.59 1.41.59.51 0 1.02-.2 1.41-.59l7.78-7.78 2.81-2.81c.8-.78.8-2.07 0-2.86zM5.41 20L4 18.59l7.72-7.72 1.47 1.35L5.41 20z\"/>\n",
              "  </svg>\n",
              "      </button>\n",
              "      \n",
              "  <style>\n",
              "    .colab-df-container {\n",
              "      display:flex;\n",
              "      flex-wrap:wrap;\n",
              "      gap: 12px;\n",
              "    }\n",
              "\n",
              "    .colab-df-convert {\n",
              "      background-color: #E8F0FE;\n",
              "      border: none;\n",
              "      border-radius: 50%;\n",
              "      cursor: pointer;\n",
              "      display: none;\n",
              "      fill: #1967D2;\n",
              "      height: 32px;\n",
              "      padding: 0 0 0 0;\n",
              "      width: 32px;\n",
              "    }\n",
              "\n",
              "    .colab-df-convert:hover {\n",
              "      background-color: #E2EBFA;\n",
              "      box-shadow: 0px 1px 2px rgba(60, 64, 67, 0.3), 0px 1px 3px 1px rgba(60, 64, 67, 0.15);\n",
              "      fill: #174EA6;\n",
              "    }\n",
              "\n",
              "    [theme=dark] .colab-df-convert {\n",
              "      background-color: #3B4455;\n",
              "      fill: #D2E3FC;\n",
              "    }\n",
              "\n",
              "    [theme=dark] .colab-df-convert:hover {\n",
              "      background-color: #434B5C;\n",
              "      box-shadow: 0px 1px 3px 1px rgba(0, 0, 0, 0.15);\n",
              "      filter: drop-shadow(0px 1px 2px rgba(0, 0, 0, 0.3));\n",
              "      fill: #FFFFFF;\n",
              "    }\n",
              "  </style>\n",
              "\n",
              "      <script>\n",
              "        const buttonEl =\n",
              "          document.querySelector('#df-64980c2a-721b-4198-b24d-be6b430daaf7 button.colab-df-convert');\n",
              "        buttonEl.style.display =\n",
              "          google.colab.kernel.accessAllowed ? 'block' : 'none';\n",
              "\n",
              "        async function convertToInteractive(key) {\n",
              "          const element = document.querySelector('#df-64980c2a-721b-4198-b24d-be6b430daaf7');\n",
              "          const dataTable =\n",
              "            await google.colab.kernel.invokeFunction('convertToInteractive',\n",
              "                                                     [key], {});\n",
              "          if (!dataTable) return;\n",
              "\n",
              "          const docLinkHtml = 'Like what you see? Visit the ' +\n",
              "            '<a target=\"_blank\" href=https://colab.research.google.com/notebooks/data_table.ipynb>data table notebook</a>'\n",
              "            + ' to learn more about interactive tables.';\n",
              "          element.innerHTML = '';\n",
              "          dataTable['output_type'] = 'display_data';\n",
              "          await google.colab.output.renderOutput(dataTable, element);\n",
              "          const docLink = document.createElement('div');\n",
              "          docLink.innerHTML = docLinkHtml;\n",
              "          element.appendChild(docLink);\n",
              "        }\n",
              "      </script>\n",
              "    </div>\n",
              "  </div>\n",
              "  "
            ]
          },
          "metadata": {},
          "execution_count": 101
        }
      ]
    },
    {
      "cell_type": "markdown",
      "source": [
        "# Remover PolicyNumber\n",
        "# OneHot Encoding\n",
        "# StandardScaler\n"
      ],
      "metadata": {
        "id": "jrhEDcyHdLpK"
      }
    },
    {
      "cell_type": "markdown",
      "source": [
        "#Data Preparation"
      ],
      "metadata": {
        "id": "VLa1RMJHlMji"
      }
    },
    {
      "cell_type": "code",
      "source": [
        "SEED=42"
      ],
      "metadata": {
        "id": "6MkgdmWElOmK"
      },
      "execution_count": 102,
      "outputs": []
    },
    {
      "cell_type": "markdown",
      "source": [
        "##Train-test split"
      ],
      "metadata": {
        "id": "qniS2ncLlQ5n"
      }
    },
    {
      "cell_type": "code",
      "source": [
        "X = df.drop(columns=['PolicyNumber', 'FraudFound_P'])\n",
        "y = df['FraudFound_P']"
      ],
      "metadata": {
        "id": "Fh24eu-al4A1"
      },
      "execution_count": 103,
      "outputs": []
    },
    {
      "cell_type": "code",
      "source": [
        "X_train, X_test, y_train, y_test = train_test_split(X, y, stratify=y, random_state=SEED)"
      ],
      "metadata": {
        "id": "YLd69YjplQen"
      },
      "execution_count": 104,
      "outputs": []
    },
    {
      "cell_type": "markdown",
      "source": [
        "## Contrução de pipeline de pré-processamento"
      ],
      "metadata": {
        "id": "ExXCur1fmXYH"
      }
    },
    {
      "cell_type": "code",
      "source": [
        "ct = ColumnTransformer(\n",
        "    [\n",
        "        ('ohe', OneHotEncoder(drop='first', handle_unknown='ignore'), selector(dtype_include=['object'])),\n",
        "        ('sse', StandardScaler(), selector(dtype_include=['int64', 'float64']))\n",
        "    ]\n",
        ")"
      ],
      "metadata": {
        "id": "sSM5TgTamfQI"
      },
      "execution_count": 105,
      "outputs": []
    },
    {
      "cell_type": "markdown",
      "source": [
        "#Modeling"
      ],
      "metadata": {
        "id": "4zg0qnQWwDve"
      }
    },
    {
      "cell_type": "markdown",
      "source": [
        "## Definição dos algoritmos de ML que serão usados"
      ],
      "metadata": {
        "id": "8LuqBxr_3Wod"
      }
    },
    {
      "cell_type": "code",
      "source": [
        "algoritmos_ml = [\n",
        "    ['LR', LogisticRegression(random_state=42)],\n",
        "    ['KNN', KNeighborsClassifier()],\n",
        "    ['DT', DecisionTreeClassifier(random_state=42)]\n",
        "]"
      ],
      "metadata": {
        "id": "aeMObL0JwFIf"
      },
      "execution_count": 106,
      "outputs": []
    },
    {
      "cell_type": "markdown",
      "source": [
        "## Definição dos algoritmos de balanceamento que serão utilizados"
      ],
      "metadata": {
        "id": "gtTInsLv3iYy"
      }
    },
    {
      "cell_type": "code",
      "source": [
        "algoritmos_balanceamento = [\n",
        "    ['SEM', None],\n",
        "    ['ROS', RandomOverSampler(random_state=42)],\n",
        "    ['SMT', SMOTE(random_state=42)],\n",
        "    ['ASY', ADASYN(random_state=42)],\n",
        "    ['RUS', RandomUnderSampler(random_state=42)],\n",
        "    ['NMI', NearMiss()]\n",
        "]"
      ],
      "metadata": {
        "id": "FVVGQjMYzYtP"
      },
      "execution_count": 107,
      "outputs": []
    },
    {
      "cell_type": "code",
      "source": [
        "[algo[0] for algo in algoritmos_ml]\n",
        "[algo[0] for algo in algoritmos_balanceamento]"
      ],
      "metadata": {
        "colab": {
          "base_uri": "https://localhost:8080/"
        },
        "id": "6jPqj-jHK-UT",
        "outputId": "ffb554fd-0f66-467b-b4a7-a81e407feddb"
      },
      "execution_count": 120,
      "outputs": [
        {
          "output_type": "execute_result",
          "data": {
            "text/plain": [
              "['SEM', 'ROS', 'SMT', 'ASY', 'RUS', 'NMI']"
            ]
          },
          "metadata": {},
          "execution_count": 120
        }
      ]
    },
    {
      "cell_type": "markdown",
      "source": [
        "## Construção automática dos pipelines"
      ],
      "metadata": {
        "id": "5hSCOcua3sSo"
      }
    },
    {
      "cell_type": "code",
      "source": [
        "l_pipes = []\n",
        "\n",
        "for modelo in algoritmos_ml:\n",
        "  for algo_balanc in algoritmos_balanceamento:\n",
        "\n",
        "    if algo_balanc[0] == 'SEM':\n",
        "      pipeline = Pipeline(\n",
        "        [\n",
        "          ('pp', ct),\n",
        "          (modelo[0], modelo[1])\n",
        "        ]\n",
        "      )\n",
        "    else:\n",
        "      pipeline = Pipeline(\n",
        "        [\n",
        "          ('pp', ct),\n",
        "          (algo_balanc[0], algo_balanc[1]),\n",
        "          (modelo[0], modelo[1])\n",
        "        ]\n",
        "      )\n",
        "    l_pipes.append(pipeline)"
      ],
      "metadata": {
        "id": "Bv0Z8bYMw6Pe"
      },
      "execution_count": 108,
      "outputs": []
    },
    {
      "cell_type": "code",
      "source": [
        "len(l_pipes)"
      ],
      "metadata": {
        "colab": {
          "base_uri": "https://localhost:8080/"
        },
        "id": "knwA_S3o2Whp",
        "outputId": "6eb55241-2ed2-4350-91d2-d85021a81ba3"
      },
      "execution_count": 109,
      "outputs": [
        {
          "output_type": "execute_result",
          "data": {
            "text/plain": [
              "18"
            ]
          },
          "metadata": {},
          "execution_count": 109
        }
      ]
    },
    {
      "cell_type": "markdown",
      "source": [
        "#Evaluation"
      ],
      "metadata": {
        "id": "zMf30jet4-3k"
      }
    },
    {
      "cell_type": "code",
      "source": [
        "skf = StratifiedKFold(n_splits=5, shuffle=True, random_state=SEED)"
      ],
      "metadata": {
        "id": "Th5psMPeIDSQ"
      },
      "execution_count": 113,
      "outputs": []
    },
    {
      "cell_type": "code",
      "source": [
        "l_results = []"
      ],
      "metadata": {
        "id": "baAXz8AlNB93"
      },
      "execution_count": 125,
      "outputs": []
    },
    {
      "cell_type": "code",
      "source": [
        "nomes_ml = [algo[0] for algo in algoritmos_ml]\n",
        "nomes_tec_balanc = [algo[0] for algo in algoritmos_balanceamento]\n",
        "\n",
        "i=0\n",
        "\n",
        "for nome_ml in nomes_ml:\n",
        "  for nome_tec_balanc in nomes_tec_balanc:\n",
        "    print(nome_ml, nome_tec_balanc)\n",
        "\n",
        "    res = cross_validate(l_pipes[i], X_train, y_train, cv=skf, scoring='f1', n_jobs=-1)\n",
        "\n",
        "    l_results.append([nome_ml,\n",
        "                      nome_tec_balanc,\n",
        "                      np.round(res['test_score'].mean(), 4),\n",
        "                      np.round(res['test_score'].std(), 4)])\n",
        "\n",
        "    i += 1"
      ],
      "metadata": {
        "colab": {
          "base_uri": "https://localhost:8080/"
        },
        "id": "RIm6tTO4IRT-",
        "outputId": "0e0a187d-8f44-46a8-86b5-05d6a0d11f80"
      },
      "execution_count": 128,
      "outputs": [
        {
          "output_type": "stream",
          "name": "stdout",
          "text": [
            "LR SEM\n",
            "LR ROS\n",
            "LR SMT\n",
            "LR ASY\n",
            "LR RUS\n",
            "LR NMI\n",
            "KNN SEM\n",
            "KNN ROS\n",
            "KNN SMT\n",
            "KNN ASY\n",
            "KNN RUS\n",
            "KNN NMI\n",
            "DT SEM\n",
            "DT ROS\n",
            "DT SMT\n",
            "DT ASY\n",
            "DT RUS\n",
            "DT NMI\n"
          ]
        }
      ]
    },
    {
      "cell_type": "code",
      "source": [
        "df_res = pd.DataFrame(l_results, columns=['ML', 'BALANCEAMENTO', 'MEDIA F1', 'DESVIO F1']).sort_values(by=['MEDIA F1'], ascending=False)\n",
        "df_res.reset_index(drop=True)"
      ],
      "metadata": {
        "colab": {
          "base_uri": "https://localhost:8080/",
          "height": 1000
        },
        "id": "y_2fm2fiMWy9",
        "outputId": "710c1edc-2d53-4ecf-a79d-6252c3074e12"
      },
      "execution_count": 130,
      "outputs": [
        {
          "output_type": "execute_result",
          "data": {
            "text/plain": [
              "     ML BALANCEAMENTO  MEDIA F1  DESVIO F1\n",
              "0    LR           SMT    0.2356     0.0049\n",
              "1    LR           RUS    0.2318     0.0072\n",
              "2    LR           ROS    0.2314     0.0026\n",
              "3    LR           ASY    0.2310     0.0054\n",
              "4    DT           RUS    0.2127     0.0154\n",
              "5    DT           ROS    0.2064     0.0399\n",
              "6    DT           SEM    0.1989     0.0111\n",
              "7    DT           SMT    0.1869     0.0278\n",
              "8    DT           ASY    0.1748     0.0359\n",
              "9   KNN           RUS    0.1722     0.0089\n",
              "10  KNN           ROS    0.1699     0.0169\n",
              "11  KNN           ASY    0.1695     0.0091\n",
              "12  KNN           SMT    0.1693     0.0082\n",
              "13   DT           NMI    0.1427     0.0084\n",
              "14   LR           NMI    0.1409     0.0080\n",
              "15  KNN           NMI    0.1216     0.0097\n",
              "16  KNN           SEM    0.0510     0.0056\n",
              "17   LR           ROS    0.0194     0.0209\n",
              "18   LR           SEM    0.0194     0.0209\n",
              "19   DT           NMI    0.0194     0.0209\n",
              "20  KNN           SMT    0.0194     0.0209\n",
              "21   LR           SMT    0.0194     0.0209\n",
              "22   LR           ASY    0.0194     0.0209\n",
              "23   LR           RUS    0.0194     0.0209\n",
              "24   LR           NMI    0.0194     0.0209\n",
              "25  KNN           SEM    0.0194     0.0209\n",
              "26  KNN           ROS    0.0194     0.0209\n",
              "27  KNN           ASY    0.0194     0.0209\n",
              "28   DT           RUS    0.0194     0.0209\n",
              "29  KNN           RUS    0.0194     0.0209\n",
              "30  KNN           NMI    0.0194     0.0209\n",
              "31   DT           SEM    0.0194     0.0209\n",
              "32   DT           ROS    0.0194     0.0209\n",
              "33   DT           SMT    0.0194     0.0209\n",
              "34   DT           ASY    0.0194     0.0209\n",
              "35   LR           SEM    0.0194     0.0209"
            ],
            "text/html": [
              "\n",
              "  <div id=\"df-52227a9d-6918-490f-bf25-1761df6ec9ee\">\n",
              "    <div class=\"colab-df-container\">\n",
              "      <div>\n",
              "<style scoped>\n",
              "    .dataframe tbody tr th:only-of-type {\n",
              "        vertical-align: middle;\n",
              "    }\n",
              "\n",
              "    .dataframe tbody tr th {\n",
              "        vertical-align: top;\n",
              "    }\n",
              "\n",
              "    .dataframe thead th {\n",
              "        text-align: right;\n",
              "    }\n",
              "</style>\n",
              "<table border=\"1\" class=\"dataframe\">\n",
              "  <thead>\n",
              "    <tr style=\"text-align: right;\">\n",
              "      <th></th>\n",
              "      <th>ML</th>\n",
              "      <th>BALANCEAMENTO</th>\n",
              "      <th>MEDIA F1</th>\n",
              "      <th>DESVIO F1</th>\n",
              "    </tr>\n",
              "  </thead>\n",
              "  <tbody>\n",
              "    <tr>\n",
              "      <th>0</th>\n",
              "      <td>LR</td>\n",
              "      <td>SMT</td>\n",
              "      <td>0.2356</td>\n",
              "      <td>0.0049</td>\n",
              "    </tr>\n",
              "    <tr>\n",
              "      <th>1</th>\n",
              "      <td>LR</td>\n",
              "      <td>RUS</td>\n",
              "      <td>0.2318</td>\n",
              "      <td>0.0072</td>\n",
              "    </tr>\n",
              "    <tr>\n",
              "      <th>2</th>\n",
              "      <td>LR</td>\n",
              "      <td>ROS</td>\n",
              "      <td>0.2314</td>\n",
              "      <td>0.0026</td>\n",
              "    </tr>\n",
              "    <tr>\n",
              "      <th>3</th>\n",
              "      <td>LR</td>\n",
              "      <td>ASY</td>\n",
              "      <td>0.2310</td>\n",
              "      <td>0.0054</td>\n",
              "    </tr>\n",
              "    <tr>\n",
              "      <th>4</th>\n",
              "      <td>DT</td>\n",
              "      <td>RUS</td>\n",
              "      <td>0.2127</td>\n",
              "      <td>0.0154</td>\n",
              "    </tr>\n",
              "    <tr>\n",
              "      <th>5</th>\n",
              "      <td>DT</td>\n",
              "      <td>ROS</td>\n",
              "      <td>0.2064</td>\n",
              "      <td>0.0399</td>\n",
              "    </tr>\n",
              "    <tr>\n",
              "      <th>6</th>\n",
              "      <td>DT</td>\n",
              "      <td>SEM</td>\n",
              "      <td>0.1989</td>\n",
              "      <td>0.0111</td>\n",
              "    </tr>\n",
              "    <tr>\n",
              "      <th>7</th>\n",
              "      <td>DT</td>\n",
              "      <td>SMT</td>\n",
              "      <td>0.1869</td>\n",
              "      <td>0.0278</td>\n",
              "    </tr>\n",
              "    <tr>\n",
              "      <th>8</th>\n",
              "      <td>DT</td>\n",
              "      <td>ASY</td>\n",
              "      <td>0.1748</td>\n",
              "      <td>0.0359</td>\n",
              "    </tr>\n",
              "    <tr>\n",
              "      <th>9</th>\n",
              "      <td>KNN</td>\n",
              "      <td>RUS</td>\n",
              "      <td>0.1722</td>\n",
              "      <td>0.0089</td>\n",
              "    </tr>\n",
              "    <tr>\n",
              "      <th>10</th>\n",
              "      <td>KNN</td>\n",
              "      <td>ROS</td>\n",
              "      <td>0.1699</td>\n",
              "      <td>0.0169</td>\n",
              "    </tr>\n",
              "    <tr>\n",
              "      <th>11</th>\n",
              "      <td>KNN</td>\n",
              "      <td>ASY</td>\n",
              "      <td>0.1695</td>\n",
              "      <td>0.0091</td>\n",
              "    </tr>\n",
              "    <tr>\n",
              "      <th>12</th>\n",
              "      <td>KNN</td>\n",
              "      <td>SMT</td>\n",
              "      <td>0.1693</td>\n",
              "      <td>0.0082</td>\n",
              "    </tr>\n",
              "    <tr>\n",
              "      <th>13</th>\n",
              "      <td>DT</td>\n",
              "      <td>NMI</td>\n",
              "      <td>0.1427</td>\n",
              "      <td>0.0084</td>\n",
              "    </tr>\n",
              "    <tr>\n",
              "      <th>14</th>\n",
              "      <td>LR</td>\n",
              "      <td>NMI</td>\n",
              "      <td>0.1409</td>\n",
              "      <td>0.0080</td>\n",
              "    </tr>\n",
              "    <tr>\n",
              "      <th>15</th>\n",
              "      <td>KNN</td>\n",
              "      <td>NMI</td>\n",
              "      <td>0.1216</td>\n",
              "      <td>0.0097</td>\n",
              "    </tr>\n",
              "    <tr>\n",
              "      <th>16</th>\n",
              "      <td>KNN</td>\n",
              "      <td>SEM</td>\n",
              "      <td>0.0510</td>\n",
              "      <td>0.0056</td>\n",
              "    </tr>\n",
              "    <tr>\n",
              "      <th>17</th>\n",
              "      <td>LR</td>\n",
              "      <td>ROS</td>\n",
              "      <td>0.0194</td>\n",
              "      <td>0.0209</td>\n",
              "    </tr>\n",
              "    <tr>\n",
              "      <th>18</th>\n",
              "      <td>LR</td>\n",
              "      <td>SEM</td>\n",
              "      <td>0.0194</td>\n",
              "      <td>0.0209</td>\n",
              "    </tr>\n",
              "    <tr>\n",
              "      <th>19</th>\n",
              "      <td>DT</td>\n",
              "      <td>NMI</td>\n",
              "      <td>0.0194</td>\n",
              "      <td>0.0209</td>\n",
              "    </tr>\n",
              "    <tr>\n",
              "      <th>20</th>\n",
              "      <td>KNN</td>\n",
              "      <td>SMT</td>\n",
              "      <td>0.0194</td>\n",
              "      <td>0.0209</td>\n",
              "    </tr>\n",
              "    <tr>\n",
              "      <th>21</th>\n",
              "      <td>LR</td>\n",
              "      <td>SMT</td>\n",
              "      <td>0.0194</td>\n",
              "      <td>0.0209</td>\n",
              "    </tr>\n",
              "    <tr>\n",
              "      <th>22</th>\n",
              "      <td>LR</td>\n",
              "      <td>ASY</td>\n",
              "      <td>0.0194</td>\n",
              "      <td>0.0209</td>\n",
              "    </tr>\n",
              "    <tr>\n",
              "      <th>23</th>\n",
              "      <td>LR</td>\n",
              "      <td>RUS</td>\n",
              "      <td>0.0194</td>\n",
              "      <td>0.0209</td>\n",
              "    </tr>\n",
              "    <tr>\n",
              "      <th>24</th>\n",
              "      <td>LR</td>\n",
              "      <td>NMI</td>\n",
              "      <td>0.0194</td>\n",
              "      <td>0.0209</td>\n",
              "    </tr>\n",
              "    <tr>\n",
              "      <th>25</th>\n",
              "      <td>KNN</td>\n",
              "      <td>SEM</td>\n",
              "      <td>0.0194</td>\n",
              "      <td>0.0209</td>\n",
              "    </tr>\n",
              "    <tr>\n",
              "      <th>26</th>\n",
              "      <td>KNN</td>\n",
              "      <td>ROS</td>\n",
              "      <td>0.0194</td>\n",
              "      <td>0.0209</td>\n",
              "    </tr>\n",
              "    <tr>\n",
              "      <th>27</th>\n",
              "      <td>KNN</td>\n",
              "      <td>ASY</td>\n",
              "      <td>0.0194</td>\n",
              "      <td>0.0209</td>\n",
              "    </tr>\n",
              "    <tr>\n",
              "      <th>28</th>\n",
              "      <td>DT</td>\n",
              "      <td>RUS</td>\n",
              "      <td>0.0194</td>\n",
              "      <td>0.0209</td>\n",
              "    </tr>\n",
              "    <tr>\n",
              "      <th>29</th>\n",
              "      <td>KNN</td>\n",
              "      <td>RUS</td>\n",
              "      <td>0.0194</td>\n",
              "      <td>0.0209</td>\n",
              "    </tr>\n",
              "    <tr>\n",
              "      <th>30</th>\n",
              "      <td>KNN</td>\n",
              "      <td>NMI</td>\n",
              "      <td>0.0194</td>\n",
              "      <td>0.0209</td>\n",
              "    </tr>\n",
              "    <tr>\n",
              "      <th>31</th>\n",
              "      <td>DT</td>\n",
              "      <td>SEM</td>\n",
              "      <td>0.0194</td>\n",
              "      <td>0.0209</td>\n",
              "    </tr>\n",
              "    <tr>\n",
              "      <th>32</th>\n",
              "      <td>DT</td>\n",
              "      <td>ROS</td>\n",
              "      <td>0.0194</td>\n",
              "      <td>0.0209</td>\n",
              "    </tr>\n",
              "    <tr>\n",
              "      <th>33</th>\n",
              "      <td>DT</td>\n",
              "      <td>SMT</td>\n",
              "      <td>0.0194</td>\n",
              "      <td>0.0209</td>\n",
              "    </tr>\n",
              "    <tr>\n",
              "      <th>34</th>\n",
              "      <td>DT</td>\n",
              "      <td>ASY</td>\n",
              "      <td>0.0194</td>\n",
              "      <td>0.0209</td>\n",
              "    </tr>\n",
              "    <tr>\n",
              "      <th>35</th>\n",
              "      <td>LR</td>\n",
              "      <td>SEM</td>\n",
              "      <td>0.0194</td>\n",
              "      <td>0.0209</td>\n",
              "    </tr>\n",
              "  </tbody>\n",
              "</table>\n",
              "</div>\n",
              "      <button class=\"colab-df-convert\" onclick=\"convertToInteractive('df-52227a9d-6918-490f-bf25-1761df6ec9ee')\"\n",
              "              title=\"Convert this dataframe to an interactive table.\"\n",
              "              style=\"display:none;\">\n",
              "        \n",
              "  <svg xmlns=\"http://www.w3.org/2000/svg\" height=\"24px\"viewBox=\"0 0 24 24\"\n",
              "       width=\"24px\">\n",
              "    <path d=\"M0 0h24v24H0V0z\" fill=\"none\"/>\n",
              "    <path d=\"M18.56 5.44l.94 2.06.94-2.06 2.06-.94-2.06-.94-.94-2.06-.94 2.06-2.06.94zm-11 1L8.5 8.5l.94-2.06 2.06-.94-2.06-.94L8.5 2.5l-.94 2.06-2.06.94zm10 10l.94 2.06.94-2.06 2.06-.94-2.06-.94-.94-2.06-.94 2.06-2.06.94z\"/><path d=\"M17.41 7.96l-1.37-1.37c-.4-.4-.92-.59-1.43-.59-.52 0-1.04.2-1.43.59L10.3 9.45l-7.72 7.72c-.78.78-.78 2.05 0 2.83L4 21.41c.39.39.9.59 1.41.59.51 0 1.02-.2 1.41-.59l7.78-7.78 2.81-2.81c.8-.78.8-2.07 0-2.86zM5.41 20L4 18.59l7.72-7.72 1.47 1.35L5.41 20z\"/>\n",
              "  </svg>\n",
              "      </button>\n",
              "      \n",
              "  <style>\n",
              "    .colab-df-container {\n",
              "      display:flex;\n",
              "      flex-wrap:wrap;\n",
              "      gap: 12px;\n",
              "    }\n",
              "\n",
              "    .colab-df-convert {\n",
              "      background-color: #E8F0FE;\n",
              "      border: none;\n",
              "      border-radius: 50%;\n",
              "      cursor: pointer;\n",
              "      display: none;\n",
              "      fill: #1967D2;\n",
              "      height: 32px;\n",
              "      padding: 0 0 0 0;\n",
              "      width: 32px;\n",
              "    }\n",
              "\n",
              "    .colab-df-convert:hover {\n",
              "      background-color: #E2EBFA;\n",
              "      box-shadow: 0px 1px 2px rgba(60, 64, 67, 0.3), 0px 1px 3px 1px rgba(60, 64, 67, 0.15);\n",
              "      fill: #174EA6;\n",
              "    }\n",
              "\n",
              "    [theme=dark] .colab-df-convert {\n",
              "      background-color: #3B4455;\n",
              "      fill: #D2E3FC;\n",
              "    }\n",
              "\n",
              "    [theme=dark] .colab-df-convert:hover {\n",
              "      background-color: #434B5C;\n",
              "      box-shadow: 0px 1px 3px 1px rgba(0, 0, 0, 0.15);\n",
              "      filter: drop-shadow(0px 1px 2px rgba(0, 0, 0, 0.3));\n",
              "      fill: #FFFFFF;\n",
              "    }\n",
              "  </style>\n",
              "\n",
              "      <script>\n",
              "        const buttonEl =\n",
              "          document.querySelector('#df-52227a9d-6918-490f-bf25-1761df6ec9ee button.colab-df-convert');\n",
              "        buttonEl.style.display =\n",
              "          google.colab.kernel.accessAllowed ? 'block' : 'none';\n",
              "\n",
              "        async function convertToInteractive(key) {\n",
              "          const element = document.querySelector('#df-52227a9d-6918-490f-bf25-1761df6ec9ee');\n",
              "          const dataTable =\n",
              "            await google.colab.kernel.invokeFunction('convertToInteractive',\n",
              "                                                     [key], {});\n",
              "          if (!dataTable) return;\n",
              "\n",
              "          const docLinkHtml = 'Like what you see? Visit the ' +\n",
              "            '<a target=\"_blank\" href=https://colab.research.google.com/notebooks/data_table.ipynb>data table notebook</a>'\n",
              "            + ' to learn more about interactive tables.';\n",
              "          element.innerHTML = '';\n",
              "          dataTable['output_type'] = 'display_data';\n",
              "          await google.colab.output.renderOutput(dataTable, element);\n",
              "          const docLink = document.createElement('div');\n",
              "          docLink.innerHTML = docLinkHtml;\n",
              "          element.appendChild(docLink);\n",
              "        }\n",
              "      </script>\n",
              "    </div>\n",
              "  </div>\n",
              "  "
            ]
          },
          "metadata": {},
          "execution_count": 130
        }
      ]
    },
    {
      "cell_type": "markdown",
      "source": [
        "#Deployment"
      ],
      "metadata": {
        "id": "Jm2hkskUQri0"
      }
    },
    {
      "cell_type": "code",
      "source": [
        "from sklearn.metrics import f1_score\n",
        "\n",
        "estimator = l_pipes[2]\n",
        "estimator.fit(X_train, y_train)\n",
        "\n",
        "y_preds = estimator.predict(X_test)\n",
        "\n",
        "f1_score(y_true=y_test, y_pred=y_preds)"
      ],
      "metadata": {
        "colab": {
          "base_uri": "https://localhost:8080/"
        },
        "id": "0oIAAr_SQtQC",
        "outputId": "57d477f1-3d8a-4504-d270-36447dbcb702"
      },
      "execution_count": 134,
      "outputs": [
        {
          "output_type": "stream",
          "name": "stderr",
          "text": [
            "/usr/local/lib/python3.8/dist-packages/sklearn/linear_model/_logistic.py:458: ConvergenceWarning: lbfgs failed to converge (status=1):\n",
            "STOP: TOTAL NO. of ITERATIONS REACHED LIMIT.\n",
            "\n",
            "Increase the number of iterations (max_iter) or scale the data as shown in:\n",
            "    https://scikit-learn.org/stable/modules/preprocessing.html\n",
            "Please also refer to the documentation for alternative solver options:\n",
            "    https://scikit-learn.org/stable/modules/linear_model.html#logistic-regression\n",
            "  n_iter_i = _check_optimize_result(\n"
          ]
        },
        {
          "output_type": "execute_result",
          "data": {
            "text/plain": [
              "0.22249539028887522"
            ]
          },
          "metadata": {},
          "execution_count": 134
        }
      ]
    }
  ]
}